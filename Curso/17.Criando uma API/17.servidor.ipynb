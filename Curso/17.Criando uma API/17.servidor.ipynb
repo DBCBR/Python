{
  "nbformat": 4,
  "nbformat_minor": 0,
  "metadata": {
    "colab": {
      "provenance": []
    },
    "kernelspec": {
      "name": "python3",
      "display_name": "Python 3"
    },
    "language_info": {
      "name": "python"
    }
  },
  "cells": [
    {
      "cell_type": "markdown",
      "source": [
        "Prof. Fernando Amaral\n",
        "\n",
        "www.eia.ai"
      ],
      "metadata": {
        "id": "in4nwG0q8CnQ"
      }
    },
    {
      "cell_type": "markdown",
      "source": [
        "# Criando uma API"
      ],
      "metadata": {
        "id": "sA3v8qc-8-Ke"
      }
    },
    {
      "cell_type": "code",
      "execution_count": null,
      "metadata": {
        "id": "dNKo2Q7eMbbq"
      },
      "outputs": [],
      "source": [
        "!pip install flask_ngrok"
      ]
    },
    {
      "cell_type": "code",
      "source": [
        "!pip install pyngrok"
      ],
      "metadata": {
        "id": "x9g4aVJAMw5L"
      },
      "execution_count": null,
      "outputs": []
    },
    {
      "cell_type": "code",
      "source": [
        "!ngrok config add-authtoken SEU_CODIGO_AQUI"
      ],
      "metadata": {
        "id": "VpKrpBG-oSYs"
      },
      "execution_count": null,
      "outputs": []
    },
    {
      "cell_type": "code",
      "source": [
        "from flask import Flask, jsonify, request\n",
        "from pyngrok import ngrok\n",
        "\n",
        "app = Flask(__name__)\n",
        "\n",
        "@app.route('/')\n",
        "def padrao():\n",
        "  return \"Escolha um dos métodos\"\n",
        "\n",
        "@app.route('/cotacao/')\n",
        "def cotacao():\n",
        "  return '5.34'\n",
        "\n",
        "@app.route('/conversao/<float:val>')\n",
        "def conversao(val):\n",
        "  return str(val * 5.34)\n",
        "\n",
        "@app.route('/cotacaocompleta', methods=['GET'])\n",
        "def cotacaocompleta():\n",
        "  argumentos = request.args\n",
        "  valor = float(argumentos.get('valor'))\n",
        "  mes = argumentos.get('mes')\n",
        "\n",
        "  total = 0.0\n",
        "  if mes == 'Janeiro':\n",
        "    total = valor * 5.34\n",
        "  elif mes == 'Fevereiro':\n",
        "    total = valor * 5.22\n",
        "  elif mes == 'Marco':\n",
        "    total = valor * 5.19\n",
        "\n",
        "  return str(total)\n",
        "\n",
        "@app.route('/tabela/')\n",
        "def tabela():\n",
        "  return jsonify(Janeiro='5.34',Fevereiro='5.22', Marco='5.33')\n",
        "\n",
        "if __name__ == '__main__':\n",
        "    port = 5000\n",
        "    public_url = ngrok.connect(port)\n",
        "    print(' * ngrok tunnel \"{}\" -> \"http://127.0.0.1:{}/\"'.format(public_url, port))\n",
        "\n",
        "    try:\n",
        "        app.run(port=port)\n",
        "    except KeyboardInterrupt:\n",
        "        ngrok.disconnect(public_url)"
      ],
      "metadata": {
        "id": "_w4axA6hNAWJ"
      },
      "execution_count": null,
      "outputs": []
    }
  ]
}